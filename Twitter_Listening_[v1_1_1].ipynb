{
  "nbformat": 4,
  "nbformat_minor": 0,
  "metadata": {
    "colab": {
      "name": "Twitter_Listening_[v1.1.1].ipynb",
      "provenance": [],
      "collapsed_sections": [],
      "authorship_tag": "ABX9TyOD3fa2R8x1Gf2M1ohWQyoJ",
      "include_colab_link": true
    },
    "kernelspec": {
      "name": "python3",
      "display_name": "Python 3"
    }
  },
  "cells": [
    {
      "cell_type": "markdown",
      "metadata": {
        "id": "view-in-github",
        "colab_type": "text"
      },
      "source": [
        "<a href=\"https://colab.research.google.com/github/manuelarangom/Twitter_Mention_Analyzer/blob/master/Twitter_Listening_%5Bv1_1_1%5D.ipynb\" target=\"_parent\"><img src=\"https://colab.research.google.com/assets/colab-badge.svg\" alt=\"Open In Colab\"/></a>"
      ]
    },
    {
      "cell_type": "markdown",
      "metadata": {
        "id": "FxN6ZK-qG-FI",
        "colab_type": "text"
      },
      "source": [
        "#v1.1.1\n",
        "Se añade la función *detector* de la librería *gender_guesser* para incluír columna en dataframe con el género del autor del tweet.\n",
        "\n",
        "Además, se incluye gráfica que permite conocer laproporción por género y el exporte en excel de las menciones.\n"
      ]
    },
    {
      "cell_type": "code",
      "metadata": {
        "id": "EyEp2saBax67",
        "colab_type": "code",
        "outputId": "fb1bee90-10f0-4393-d3b0-402baa107b9c",
        "colab": {
          "base_uri": "https://localhost:8080/",
          "height": 121
        }
      },
      "source": [
        "pip install gender_guesser"
      ],
      "execution_count": 1,
      "outputs": [
        {
          "output_type": "stream",
          "text": [
            "Collecting gender_guesser\n",
            "\u001b[?25l  Downloading https://files.pythonhosted.org/packages/13/fb/3f2aac40cd2421e164cab1668e0ca10685fcf896bd6b3671088f8aab356e/gender_guesser-0.4.0-py2.py3-none-any.whl (379kB)\n",
            "\r\u001b[K     |▉                               | 10kB 17.9MB/s eta 0:00:01\r\u001b[K     |█▊                              | 20kB 3.4MB/s eta 0:00:01\r\u001b[K     |██▋                             | 30kB 4.9MB/s eta 0:00:01\r\u001b[K     |███▌                            | 40kB 3.2MB/s eta 0:00:01\r\u001b[K     |████▎                           | 51kB 3.9MB/s eta 0:00:01\r\u001b[K     |█████▏                          | 61kB 4.6MB/s eta 0:00:01\r\u001b[K     |██████                          | 71kB 5.3MB/s eta 0:00:01\r\u001b[K     |███████                         | 81kB 5.9MB/s eta 0:00:01\r\u001b[K     |███████▊                        | 92kB 6.6MB/s eta 0:00:01\r\u001b[K     |████████▋                       | 102kB 5.2MB/s eta 0:00:01\r\u001b[K     |█████████▌                      | 112kB 5.2MB/s eta 0:00:01\r\u001b[K     |██████████▍                     | 122kB 5.2MB/s eta 0:00:01\r\u001b[K     |███████████▎                    | 133kB 5.2MB/s eta 0:00:01\r\u001b[K     |████████████                    | 143kB 5.2MB/s eta 0:00:01\r\u001b[K     |█████████████                   | 153kB 5.2MB/s eta 0:00:01\r\u001b[K     |█████████████▉                  | 163kB 5.2MB/s eta 0:00:01\r\u001b[K     |██████████████▊                 | 174kB 5.2MB/s eta 0:00:01\r\u001b[K     |███████████████▌                | 184kB 5.2MB/s eta 0:00:01\r\u001b[K     |████████████████▍               | 194kB 5.2MB/s eta 0:00:01\r\u001b[K     |█████████████████▎              | 204kB 5.2MB/s eta 0:00:01\r\u001b[K     |██████████████████▏             | 215kB 5.2MB/s eta 0:00:01\r\u001b[K     |███████████████████             | 225kB 5.2MB/s eta 0:00:01\r\u001b[K     |███████████████████▉            | 235kB 5.2MB/s eta 0:00:01\r\u001b[K     |████████████████████▊           | 245kB 5.2MB/s eta 0:00:01\r\u001b[K     |█████████████████████▋          | 256kB 5.2MB/s eta 0:00:01\r\u001b[K     |██████████████████████▌         | 266kB 5.2MB/s eta 0:00:01\r\u001b[K     |███████████████████████▎        | 276kB 5.2MB/s eta 0:00:01\r\u001b[K     |████████████████████████▏       | 286kB 5.2MB/s eta 0:00:01\r\u001b[K     |█████████████████████████       | 296kB 5.2MB/s eta 0:00:01\r\u001b[K     |██████████████████████████      | 307kB 5.2MB/s eta 0:00:01\r\u001b[K     |██████████████████████████▉     | 317kB 5.2MB/s eta 0:00:01\r\u001b[K     |███████████████████████████▋    | 327kB 5.2MB/s eta 0:00:01\r\u001b[K     |████████████████████████████▌   | 337kB 5.2MB/s eta 0:00:01\r\u001b[K     |█████████████████████████████▍  | 348kB 5.2MB/s eta 0:00:01\r\u001b[K     |██████████████████████████████▎ | 358kB 5.2MB/s eta 0:00:01\r\u001b[K     |███████████████████████████████ | 368kB 5.2MB/s eta 0:00:01\r\u001b[K     |████████████████████████████████| 378kB 5.2MB/s eta 0:00:01\r\u001b[K     |████████████████████████████████| 389kB 5.2MB/s \n",
            "\u001b[?25hInstalling collected packages: gender-guesser\n",
            "Successfully installed gender-guesser-0.4.0\n"
          ],
          "name": "stdout"
        }
      ]
    },
    {
      "cell_type": "code",
      "metadata": {
        "id": "05kBvr8Jx0hm",
        "colab_type": "code",
        "colab": {}
      },
      "source": [
        "import tweepy\n",
        "import json\n",
        "import re\n",
        "import io\n",
        "import nltk\n",
        "import pandas as pd\n",
        "from google.colab import files\n",
        "import matplotlib.pyplot as plt\n",
        "from wordcloud import WordCloud\n",
        "from collections import OrderedDict\n",
        "import gender_guesser.detector as gender\n",
        "\n",
        "####### IA\n",
        "from nltk.sentiment.vader import SentimentIntensityAnalyzer"
      ],
      "execution_count": 0,
      "outputs": []
    },
    {
      "cell_type": "code",
      "metadata": {
        "id": "otzMgNzrIziU",
        "colab_type": "code",
        "colab": {}
      },
      "source": [
        "nltk.download('vader_lexicon')"
      ],
      "execution_count": 0,
      "outputs": []
    },
    {
      "cell_type": "code",
      "metadata": {
        "id": "oUJquOZ_7kl3",
        "colab_type": "code",
        "colab": {}
      },
      "source": [
        "api_key = 'KY1rmARrX6885nePhnLZgseRh'\n",
        "api_secret_key = 'xIn4ORXUn1TiMYmcHaP9iHfPaM7by8bPzCZB6QueqrcCXc1q2A'\n",
        "access_token = '355832226-IoY0CpTyUv57vzTc6lsxY9Olq3ZbA7NjqlNbqRd2'\n",
        "access_token_secret = '5rWjm7s4vGBVwq2erLLONSCoOpsiANr1AHUgycG0ruXED'\n",
        "\n",
        "auth = tweepy.OAuthHandler(api_key,api_secret_key)\n",
        "auth.set_access_token(access_token,access_token_secret)\n",
        "\n",
        "api = tweepy.API(auth, wait_on_rate_limit = True, wait_on_rate_limit_notify = True)"
      ],
      "execution_count": 0,
      "outputs": []
    },
    {
      "cell_type": "code",
      "metadata": {
        "id": "Tmr_gbC9UNQ6",
        "colab_type": "code",
        "outputId": "78650d6b-34ba-43dc-c0f9-070934ede2ae",
        "colab": {
          "resources": {
            "http://localhost:8080/nbextensions/google.colab/files.js": {
              "data": "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",
              "ok": true,
              "headers": [
                [
                  "content-type",
                  "application/javascript"
                ]
              ],
              "status": 200,
              "status_text": ""
            }
          },
          "base_uri": "https://localhost:8080/",
          "height": 74
        }
      },
      "source": [
        "stopwords = files.upload()\n",
        "stopwords = pd.read_csv(io.BytesIO(stopwords.get('stopwords.csv')), encoding = \"ISO-8859-1\")"
      ],
      "execution_count": 4,
      "outputs": [
        {
          "output_type": "display_data",
          "data": {
            "text/html": [
              "\n",
              "     <input type=\"file\" id=\"files-ae5e863a-0451-4233-bf4e-d56b16e0561b\" name=\"files[]\" multiple disabled />\n",
              "     <output id=\"result-ae5e863a-0451-4233-bf4e-d56b16e0561b\">\n",
              "      Upload widget is only available when the cell has been executed in the\n",
              "      current browser session. Please rerun this cell to enable.\n",
              "      </output>\n",
              "      <script src=\"/nbextensions/google.colab/files.js\"></script> "
            ],
            "text/plain": [
              "<IPython.core.display.HTML object>"
            ]
          },
          "metadata": {
            "tags": []
          }
        },
        {
          "output_type": "stream",
          "text": [
            "Saving stopwords.csv to stopwords.csv\n"
          ],
          "name": "stdout"
        }
      ]
    },
    {
      "cell_type": "code",
      "metadata": {
        "id": "N28aV80l8-Mu",
        "colab_type": "code",
        "colab": {}
      },
      "source": [
        "###### BUSCAR SEGUIDORES DE UNA CUENTA\n",
        "\n",
        "data = api.followers(\"julioprofenet\")\n",
        "\n",
        "for f in data:\n",
        "  print(json.dumps(f._json, indent = 2))"
      ],
      "execution_count": 0,
      "outputs": []
    },
    {
      "cell_type": "code",
      "metadata": {
        "id": "7qCmvsgOY3aF",
        "colab_type": "code",
        "colab": {}
      },
      "source": [
        "###### BUSCAR TWEETS POR PALABRAS CLAVE\n",
        "\n",
        "def mentions_by_keywords(key_word):\n",
        "\n",
        "  word = key_word.lower()\n",
        "\n",
        "  data = pd.DataFrame()\n",
        "\n",
        "  for t in tweepy.Cursor(api.search, tweet_mode = 'extended', q = word, lang = \"es\", geocode = \"6.254301,-75.577237,17km\").items(100):   #geocode = \"6.254301,-75.577237,17km\"\n",
        "\n",
        "    data = data.append(other=t._json, ignore_index=True)\n",
        "\n",
        "  g = gender.Detector(case_sensitive = False)\n",
        "  query_results = pd.DataFrame( columns = ['MentionID','User_Name','Screen_Name','Gender','Content'] )\n",
        "  for m in range(0,len(data)):\n",
        "\n",
        "  # Determinar Género del Usuario\n",
        "    user_gender = g.get_gender((re.sub('[^A-Za-z0-9]+','',data['user'][m]['name'].split()[0])))\n",
        "  # Añadir items al DataFrame\n",
        "    query_results.loc[m] = [ data['id_str'][m],data['user'][m]['name'],data['user'][m]['screen_name'],user_gender,data['full_text'][m][0:] ]\n",
        "\n",
        "  key_word = key_word\n",
        "\n",
        "  return query_results"
      ],
      "execution_count": 0,
      "outputs": []
    },
    {
      "cell_type": "code",
      "metadata": {
        "id": "p75Olxy77khO",
        "colab_type": "code",
        "outputId": "b55e0825-76d1-4158-ed66-7a4103595644",
        "colab": {
          "base_uri": "https://localhost:8080/",
          "height": 418
        }
      },
      "source": [
        "tweets = mentions_by_keywords(input())\n",
        "tweets"
      ],
      "execution_count": 21,
      "outputs": [
        {
          "output_type": "stream",
          "text": [
            "Rolo\n"
          ],
          "name": "stdout"
        },
        {
          "output_type": "execute_result",
          "data": {
            "text/html": [
              "<div>\n",
              "<style scoped>\n",
              "    .dataframe tbody tr th:only-of-type {\n",
              "        vertical-align: middle;\n",
              "    }\n",
              "\n",
              "    .dataframe tbody tr th {\n",
              "        vertical-align: top;\n",
              "    }\n",
              "\n",
              "    .dataframe thead th {\n",
              "        text-align: right;\n",
              "    }\n",
              "</style>\n",
              "<table border=\"1\" class=\"dataframe\">\n",
              "  <thead>\n",
              "    <tr style=\"text-align: right;\">\n",
              "      <th></th>\n",
              "      <th>MentionID</th>\n",
              "      <th>User_Name</th>\n",
              "      <th>Screen_Name</th>\n",
              "      <th>Gender</th>\n",
              "      <th>Content</th>\n",
              "    </tr>\n",
              "  </thead>\n",
              "  <tbody>\n",
              "    <tr>\n",
              "      <th>0</th>\n",
              "      <td>1241468794087919618</td>\n",
              "      <td>Garni</td>\n",
              "      <td>slash_rolo</td>\n",
              "      <td>unknown</td>\n",
              "      <td>RT @ElMismoCabe: Ah no neas, si ese virus le e...</td>\n",
              "    </tr>\n",
              "    <tr>\n",
              "      <th>1</th>\n",
              "      <td>1241468300783206401</td>\n",
              "      <td>Ale.</td>\n",
              "      <td>Alemrq2</td>\n",
              "      <td>male</td>\n",
              "      <td>Primera vez que envidio a un rolo.</td>\n",
              "    </tr>\n",
              "    <tr>\n",
              "      <th>2</th>\n",
              "      <td>1241455122338795520</td>\n",
              "      <td>Angelo Andres</td>\n",
              "      <td>rolo_08</td>\n",
              "      <td>male</td>\n",
              "      <td>RT @QuinteroCalle: Confirmo que la primera per...</td>\n",
              "    </tr>\n",
              "    <tr>\n",
              "      <th>3</th>\n",
              "      <td>1241384880543498240</td>\n",
              "      <td>Garni</td>\n",
              "      <td>slash_rolo</td>\n",
              "      <td>unknown</td>\n",
              "      <td>RT @DigameProfesor: No puedo, se juega la Prim...</td>\n",
              "    </tr>\n",
              "    <tr>\n",
              "      <th>4</th>\n",
              "      <td>1241261914493259776</td>\n",
              "      <td>Mr Jones</td>\n",
              "      <td>MrSuarez___</td>\n",
              "      <td>unknown</td>\n",
              "      <td>No puedo creer que vi el vídeo de la divaza ma...</td>\n",
              "    </tr>\n",
              "    <tr>\n",
              "      <th>...</th>\n",
              "      <td>...</td>\n",
              "      <td>...</td>\n",
              "      <td>...</td>\n",
              "      <td>...</td>\n",
              "      <td>...</td>\n",
              "    </tr>\n",
              "    <tr>\n",
              "      <th>87</th>\n",
              "      <td>1238674846269108224</td>\n",
              "      <td>𝑉𝑎𝑙𝑒𝑟𝑖𝑎⁷|🇨🇴</td>\n",
              "      <td>_v4leriaj5</td>\n",
              "      <td>unknown</td>\n",
              "      <td>@ATZ_BNG_STZ @globalvane El rolo si se diferen...</td>\n",
              "    </tr>\n",
              "    <tr>\n",
              "      <th>88</th>\n",
              "      <td>1238653844143460352</td>\n",
              "      <td>Camilo Pena</td>\n",
              "      <td>CamiloPena9</td>\n",
              "      <td>male</td>\n",
              "      <td>Aunque soy rolo y amo Bogotá, debo advertirles...</td>\n",
              "    </tr>\n",
              "    <tr>\n",
              "      <th>89</th>\n",
              "      <td>1238633278791352321</td>\n",
              "      <td>duk🤡</td>\n",
              "      <td>tulua1500900</td>\n",
              "      <td>andy</td>\n",
              "      <td>@MoritePiroba jajajajajaja mk un rolo mutiló a...</td>\n",
              "    </tr>\n",
              "    <tr>\n",
              "      <th>90</th>\n",
              "      <td>1238624851759226884</td>\n",
              "      <td>Luz Vel</td>\n",
              "      <td>mateohoyosutpe1</td>\n",
              "      <td>mostly_female</td>\n",
              "      <td>@Rolo_JP @intiasprilla @IvanDuque Él no es el ...</td>\n",
              "    </tr>\n",
              "    <tr>\n",
              "      <th>91</th>\n",
              "      <td>1238567790631682049</td>\n",
              "      <td>Curiososmorbo</td>\n",
              "      <td>curiosomorbo</td>\n",
              "      <td>unknown</td>\n",
              "      <td>@rolo_mas Chimba! 🍆🍆🍆🍆 Venga le pongo la mano</td>\n",
              "    </tr>\n",
              "  </tbody>\n",
              "</table>\n",
              "<p>92 rows × 5 columns</p>\n",
              "</div>"
            ],
            "text/plain": [
              "              MentionID  ...                                            Content\n",
              "0   1241468794087919618  ...  RT @ElMismoCabe: Ah no neas, si ese virus le e...\n",
              "1   1241468300783206401  ...                 Primera vez que envidio a un rolo.\n",
              "2   1241455122338795520  ...  RT @QuinteroCalle: Confirmo que la primera per...\n",
              "3   1241384880543498240  ...  RT @DigameProfesor: No puedo, se juega la Prim...\n",
              "4   1241261914493259776  ...  No puedo creer que vi el vídeo de la divaza ma...\n",
              "..                  ...  ...                                                ...\n",
              "87  1238674846269108224  ...  @ATZ_BNG_STZ @globalvane El rolo si se diferen...\n",
              "88  1238653844143460352  ...  Aunque soy rolo y amo Bogotá, debo advertirles...\n",
              "89  1238633278791352321  ...  @MoritePiroba jajajajajaja mk un rolo mutiló a...\n",
              "90  1238624851759226884  ...  @Rolo_JP @intiasprilla @IvanDuque Él no es el ...\n",
              "91  1238567790631682049  ...      @rolo_mas Chimba! 🍆🍆🍆🍆 Venga le pongo la mano\n",
              "\n",
              "[92 rows x 5 columns]"
            ]
          },
          "metadata": {
            "tags": []
          },
          "execution_count": 21
        }
      ]
    },
    {
      "cell_type": "code",
      "metadata": {
        "id": "3sDuu5qwsEzk",
        "colab_type": "code",
        "outputId": "5cdb6c99-5451-4856-b7af-db0a7a0c554f",
        "colab": {
          "base_uri": "https://localhost:8080/",
          "height": 312
        }
      },
      "source": [
        "gender_count = {}\n",
        "gender_list = tweets['Gender'].unique()\n",
        "\n",
        "textprops = {  \n",
        "    'color' : '#FFFFFF',\n",
        "    'size': '15'\n",
        "}\n",
        "\n",
        "for g in gender_list:\n",
        "  gender_count[g] = len(tweets[ tweets['Gender'] == g ])\n",
        "\n",
        "\n",
        "plt.pie(gender_count.values(), explode=None, labels=gender_count.keys(),\n",
        "        colors=['#FF351D','#4080FF','#04A270','brown','yellow','gray','pink'],\n",
        "        autopct='%1.1f%%', pctdistance=0.65, shadow=True, labeldistance=1.15, startangle=0,\n",
        "        radius=1.5, counterclock=True, wedgeprops=None, textprops=textprops, center=(0,0),\n",
        "        frame=False, rotatelabels=False, data=None)\n",
        "\n",
        "plt.show()"
      ],
      "execution_count": 22,
      "outputs": [
        {
          "output_type": "display_data",
          "data": {
            "image/png": "[encoded data removed]",
            "text/plain": [
              "<Figure size 432x288 with 1 Axes>"
            ]
          },
          "metadata": {
            "tags": []
          }
        }
      ]
    },
    {
      "cell_type": "code",
      "metadata": {
        "id": "4aSmY4GsG-R3",
        "colab_type": "code",
        "colab": {}
      },
      "source": [
        "# GUARDAR EXCEL\n",
        "tweets.to_excel('tweets_about_Aguacate.xlsx', index = True)"
      ],
      "execution_count": 0,
      "outputs": []
    },
    {
      "cell_type": "code",
      "metadata": {
        "id": "A96A7xTeS2A6",
        "colab_type": "code",
        "colab": {}
      },
      "source": [
        "# SEPARAR COMENTARIOS POR HOMBRE / MUJER\n",
        "male_comments = tweets[ tweets['Gender'] == 'male' ]\n",
        "female_comments = tweets[ tweets['Gender'] == 'female' ]"
      ],
      "execution_count": 0,
      "outputs": []
    },
    {
      "cell_type": "code",
      "metadata": {
        "id": "ooxq9Qz0Vji8",
        "colab_type": "code",
        "colab": {}
      },
      "source": [
        "male_comments.head(100)"
      ],
      "execution_count": 0,
      "outputs": []
    },
    {
      "cell_type": "code",
      "metadata": {
        "id": "dJ2ldquROBqC",
        "colab_type": "code",
        "colab": {}
      },
      "source": [
        "words = ' '.join(male_comments['Content'])\n",
        "cleaned_word_m = \" \".join([word.lower() for word in words.split()\n",
        "                        if 'http' not in word\n",
        "                            and not word.startswith('@')\n",
        "                            and not word.startswith('#')\n",
        "                            and word != 'hotmail'\n",
        "                            and word != 'gmail'\n",
        "\n",
        "                        ])\n",
        "\n",
        "wordcloud = WordCloud(stopwords = stopwords['a'],\n",
        "                  background_color='#000000',\n",
        "                  width=1000,\n",
        "                  height=1000\n",
        "                  ).generate(cleaned_word_m)\n",
        "\n",
        "\n",
        "plt.figure(1,figsize=(13, 13))\n",
        "plt.imshow(wordcloud, interpolation='bilinear')\n",
        "plt.axis('off')\n",
        "plt.show()\n",
        "\n",
        "######\n",
        "www = []\n",
        "words = ' '.join(female_comments['Content'])\n",
        "cleaned_word_f = \" \".join([word.lower() for word in words.split()\n",
        "                        if 'http' not in word\n",
        "                            and not word.startswith('@')\n",
        "                            and not word.startswith('#')\n",
        "                            and not word.startswith('RT')\n",
        "                            and word != 'hotmail'\n",
        "                            and word != 'gmail'\n",
        "\n",
        "                        ])\n",
        "\n",
        "wordcloud = WordCloud(stopwords = stopwords['a'],\n",
        "                  background_color='#FFFFFF',\n",
        "                  width=1000,\n",
        "                  height=1000\n",
        "                  ).generate(cleaned_word_f)\n",
        "\n",
        "plt.figure(1,figsize=(13, 13))\n",
        "plt.imshow(wordcloud, interpolation='bilinear')\n",
        "plt.axis('off')\n",
        "plt.show()"
      ],
      "execution_count": 0,
      "outputs": []
    },
    {
      "cell_type": "code",
      "metadata": {
        "id": "zEAxS050dOXz",
        "colab_type": "code",
        "colab": {}
      },
      "source": [
        "cleaned_word_f"
      ],
      "execution_count": 0,
      "outputs": []
    },
    {
      "cell_type": "code",
      "metadata": {
        "id": "5hHy5HoSOCwM",
        "colab_type": "code",
        "colab": {}
      },
      "source": [
        "prueba = {}\n",
        "\n",
        "for i in cleaned_word_m.split():\n",
        "\n",
        "  if i in prueba:\n",
        "    prueba[i] += 1\n",
        "  else:\n",
        "    prueba[i] = 1\n",
        "\n",
        "prueba_desc = OrderedDict(sorted(prueba.items(), key = lambda kv: kv[1], reverse = True))"
      ],
      "execution_count": 0,
      "outputs": []
    },
    {
      "cell_type": "code",
      "metadata": {
        "id": "qbrH2MTLhQCb",
        "colab_type": "code",
        "colab": {}
      },
      "source": [
        "female_text = female_comments['Content']\n",
        "male_text = male_comments['Content']"
      ],
      "execution_count": 0,
      "outputs": []
    },
    {
      "cell_type": "code",
      "metadata": {
        "id": "PCloTOsMJauV",
        "colab_type": "code",
        "colab": {
          "base_uri": "https://localhost:8080/",
          "height": 34
        },
        "outputId": "cdda4370-f6ab-4087-f6ab-9ad8a5cc25e7"
      },
      "source": [
        "sid = SentimentIntensityAnalyzer()\n",
        "sid.polarity_scores('')3"
      ],
      "execution_count": 41,
      "outputs": [
        {
          "output_type": "execute_result",
          "data": {
            "text/plain": [
              "{'compound': -0.5859, 'neg': 0.444, 'neu': 0.374, 'pos': 0.182}"
            ]
          },
          "metadata": {
            "tags": []
          },
          "execution_count": 41
        }
      ]
    },
    {
      "cell_type": "code",
      "metadata": {
        "id": "viGEvAmuJhoy",
        "colab_type": "code",
        "colab": {}
      },
      "source": [
        ""
      ],
      "execution_count": 0,
      "outputs": []
    }
  ]
}